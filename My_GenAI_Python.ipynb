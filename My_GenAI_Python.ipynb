{
  "nbformat": 4,
  "nbformat_minor": 0,
  "metadata": {
    "colab": {
      "provenance": [],
      "authorship_tag": "ABX9TyOi0A+DLhpFvLtvFZ52MOEf",
      "include_colab_link": true
    },
    "kernelspec": {
      "name": "python3",
      "display_name": "Python 3"
    },
    "language_info": {
      "name": "python"
    }
  },
  "cells": [
    {
      "cell_type": "markdown",
      "metadata": {
        "id": "view-in-github",
        "colab_type": "text"
      },
      "source": [
        "<a href=\"https://colab.research.google.com/github/rajalearningCoding/GenAIPython/blob/main/My_GenAI_Python.ipynb\" target=\"_parent\"><img src=\"https://colab.research.google.com/assets/colab-badge.svg\" alt=\"Open In Colab\"/></a>"
      ]
    },
    {
      "cell_type": "code",
      "execution_count": 1,
      "metadata": {
        "id": "rvizA66i7UOS",
        "colab": {
          "base_uri": "https://localhost:8080/"
        },
        "outputId": "2c3e26fc-00bf-4b32-d951-49e46fe7b500"
      },
      "outputs": [
        {
          "output_type": "stream",
          "name": "stdout",
          "text": [
            "['apple', 1, 'raja', True, 2.14, -4, 'raja']\n"
          ]
        },
        {
          "output_type": "execute_result",
          "data": {
            "text/plain": [
              "True"
            ]
          },
          "metadata": {},
          "execution_count": 1
        }
      ],
      "source": [
        "fruit = ['apple',1,True,2.14,-4]\n",
        "fruit.append(\"raja\")\n",
        "fruit.insert(2,\"raja\")\n",
        "print(fruit)\n",
        "fruit[3]"
      ]
    },
    {
      "cell_type": "code",
      "source": [
        "for item in range(1,9):\n",
        "  print(item)"
      ],
      "metadata": {
        "id": "EBco5u5h70FJ",
        "colab": {
          "base_uri": "https://localhost:8080/"
        },
        "outputId": "4284ab84-9be7-4815-f388-03ec7e9f65b2"
      },
      "execution_count": 6,
      "outputs": [
        {
          "output_type": "stream",
          "name": "stdout",
          "text": [
            "1\n",
            "2\n",
            "3\n",
            "4\n",
            "5\n",
            "6\n",
            "7\n",
            "8\n"
          ]
        }
      ]
    },
    {
      "cell_type": "code",
      "source": [
        "fruits = {\"apple\",\"banana\", \"tim\",\"tim\"}\n",
        "fruits.discard(\"tiger\")\n",
        "print(fruits)\n"
      ],
      "metadata": {
        "id": "T91fhT397mj6",
        "colab": {
          "base_uri": "https://localhost:8080/"
        },
        "outputId": "e0ef6037-6097-4a90-e2b6-54328afaab2b"
      },
      "execution_count": 13,
      "outputs": [
        {
          "output_type": "stream",
          "name": "stdout",
          "text": [
            "{'banana', 'tim', 'apple'}\n"
          ]
        }
      ]
    },
    {
      "cell_type": "code",
      "source": [
        "hold = 2\n",
        "if(hold == 2):\n",
        "  print(\"hold\");"
      ],
      "metadata": {
        "colab": {
          "base_uri": "https://localhost:8080/"
        },
        "id": "zVxp-171H7e0",
        "outputId": "f26d0245-db71-4685-fbf3-538ae9fee885"
      },
      "execution_count": 18,
      "outputs": [
        {
          "output_type": "stream",
          "name": "stdout",
          "text": [
            "hold\n"
          ]
        }
      ]
    },
    {
      "cell_type": "code",
      "source": [
        "def addNum(fNumber,sNumber):\n",
        " ## return fNumber + sNumber\n",
        "  print(f\"Raja Calling Function , {sNumber }\");\n",
        "addNum(23,3)"
      ],
      "metadata": {
        "colab": {
          "base_uri": "https://localhost:8080/"
        },
        "id": "BmEYKwbiaMpQ",
        "outputId": "fd370622-f5d1-4d77-f5f0-a3af31537894"
      },
      "execution_count": 30,
      "outputs": [
        {
          "output_type": "stream",
          "name": "stdout",
          "text": [
            "Raja Calling Function , 3\n"
          ]
        }
      ]
    }
  ]
}